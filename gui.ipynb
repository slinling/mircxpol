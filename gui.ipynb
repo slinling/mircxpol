{
 "cells": [
  {
   "cell_type": "code",
   "execution_count": 1,
   "metadata": {},
   "outputs": [],
   "source": [
    "import sys\n",
    "import numpy as np\n",
    "import matplotlib.pyplot as plt\n",
    "from matplotlib.widgets import Slider\n",
    "from astropy import units as u\n",
    "from astropy.time import Time\n",
    "from astropy.coordinates import Angle, SkyCoord, EarthLocation, AltAz\n",
    "\n",
    "import ipywidgets as widgets\n",
    "from ipywidgets import interact, FloatSlider\n",
    "from IPython.display import display, HTML\n",
    "import pandas as pd \n",
    "import mircxpol as mp"
   ]
  },
  {
   "cell_type": "code",
   "execution_count": 2,
   "metadata": {},
   "outputs": [],
   "source": [
    "path_csv = \"./2022October_Wollaston_Reduced_NORMED AVERAGED/MIRCX_2022Oct19_W2S2_fancy.csv\"\n",
    "df = pd.read_csv(path_csv)\n",
    "\n",
    "MJD_data = df['MJD'].values\n",
    "HA_data = df[' HA'].values\n",
    "# VisRatio\n",
    "VisRatio_data = df[' VisRatio_normed'].values\n",
    "VisRatio_err_data = df[' visratio_normed_err'].values\n",
    "# PhaseDiff\n",
    "PD_data = df[' PhaseDiff'].values\n",
    "PD_err_data = df[' Phase_err'].values\n",
    "# Tel1_ratio\n",
    "T1_ratio_data = df[' Tel1_ratio'].values\n",
    "T1_ratio_err_data = df['tel1_ratio_err'].values\n",
    "# Tel2_ratio\n",
    "T2_ratio_data = df['tel2_ratio'].values\n",
    "T2_ratio_err_data = df['tel2_ratio_err'].values\n",
    "\n",
    "MJD = Time(MJD_data, format='mjd')\n",
    "tt = MJD.to_value('iso')\n",
    "\n",
    "time = np.linspace(4.5, 10.01, len(HA_data)) * u.hour\n",
    "ptime = Time(\"2022-10-19 0:00:00\") + time \n",
    "HA = Angle(time).value\n",
    "chara = EarthLocation.of_site(\"CHARA\")\n",
    "upsand = SkyCoord.from_name(\"ups and\")\n",
    "upsandaltaz = upsand.transform_to(AltAz(obstime = ptime, location=chara))\n",
    "alt = upsandaltaz.alt\n",
    "az = upsandaltaz.az\n",
    "# Find the index of the maximum altitude\n",
    "zenith_idx = np.argmax(alt)\n",
    "zenith_time = HA[zenith_idx]\n",
    "HA = HA - zenith_time"
   ]
  },
  {
   "cell_type": "code",
   "execution_count": 7,
   "metadata": {},
   "outputs": [],
   "source": [
    "def plot_func(r_m31, c_m31, r_m41, c_m41, r_m81, c_m81, r_m32, c_m32, r_m42, c_m42, r_m82, c_m82, I12, Q12, U12, V12, Qii, Uii, Vii):\n",
    "\n",
    "    var = np.array([r_m31, c_m31, r_m41, c_m41, r_m81, c_m81, r_m32, c_m32, r_m42, c_m42, r_m82, c_m82, I12, Q12, U12, V12, Qii, Uii, Vii])\n",
    "\n",
    "    plt.figure(figsize=(16, 8))\n",
    "    plt.subplot(2, 2, 1)\n",
    "    plt.axvline(x = HA[zenith_idx], color='green', linestyle='--', label='zenith')\n",
    "    plt.plot(HA.flatten(), mp.func1(alt, az, var, pol=True), linewidth=2, color='black')\n",
    "    plt.plot(HA.flatten(), mp.func_comp(alt, az, var, pol=True)[0], label=\"VH\", linestyle='--')\n",
    "    plt.plot(HA.flatten(), mp.func_comp(alt, az, var, pol=True)[1], label=\"VV\", linestyle='-.')\n",
    "    plt.errorbar(HA_data, VisRatio_data, yerr = VisRatio_err_data, fmt = 'o', color = 'c')\n",
    "    plt.ylabel(\"Norm Vis Ratio\", fontsize = 15)\n",
    "    plt.xlabel(\"Hour Angle\", fontsize = 15)\n",
    "    plt.grid()\n",
    "    plt.legend(fontsize = 15)\n",
    "\n",
    "    plt.subplot(2, 2, 2)\n",
    "    plt.axvline(x = HA[zenith_idx], color='green', linestyle='--', label='zenith')\n",
    "    plt.plot(HA, mp.func2(alt, az, var, pol=True), linewidth=2, color='black')\n",
    "    plt.plot(HA.flatten(), mp.func_comp(alt, az, var, pol=True)[2], label=\"VH\", linestyle='--')\n",
    "    plt.plot(HA.flatten(), mp.func_comp(alt, az, var, pol=True)[3], label=\"VV\", linestyle='-.')\n",
    "    plt.errorbar(HA_data, PD_data, yerr = PD_err_data, fmt = 'o', color = 'c')\n",
    "    plt.ylabel(r'$Differential~phase~(degrees)$', fontsize = 15)\n",
    "    plt.xlabel(\"Hour Angle\", fontsize = 15)\n",
    "    plt.grid()\n",
    "    plt.legend(fontsize = 15)\n",
    "\n",
    "\n",
    "    plt.subplot(2, 2, 3)\n",
    "    plt.axvline(x = HA[zenith_idx], color='green', linestyle='--', label='zenith')\n",
    "    plt.plot(HA, mp.func3(alt, az, var, pol=True), linewidth=2, color='black')\n",
    "    plt.errorbar(HA_data, T1_ratio_data, yerr = T1_ratio_err_data, fmt = 'o', color = 'c')\n",
    "    plt.ylabel(\"Flux Ratio Tel1\", fontsize = 15)\n",
    "    plt.xlabel(\"Hour Angle\", fontsize = 15)\n",
    "    plt.grid()\n",
    "    plt.legend(fontsize = 15)\n",
    "\n",
    "    plt.subplot(2, 2, 4)\n",
    "    plt.plot(HA, mp.func4(alt, az, var, pol=True), linewidth=2, color='black')\n",
    "    plt.errorbar(HA_data, T2_ratio_data, yerr = T2_ratio_err_data, fmt = 'o', color = 'c')\n",
    "    plt.axvline(x = HA[zenith_idx], color='green', linestyle='--', label='zenith')\n",
    "    plt.ylabel(\"Flux Ratio Tel2\", fontsize = 15)\n",
    "    plt.xlabel(\"Hour Angle\", fontsize = 15)\n",
    "    plt.grid()\n",
    "    plt.legend(fontsize = 15)\n",
    "\n",
    "    plt.tight_layout()\n",
    "    plt.show()\n",
    "    \n"
   ]
  },
  {
   "cell_type": "code",
   "execution_count": 8,
   "metadata": {},
   "outputs": [
    {
     "data": {
      "application/vnd.jupyter.widget-view+json": {
       "model_id": "299a2a5d18b24217a7983e02837f5bc6",
       "version_major": 2,
       "version_minor": 0
      },
      "text/plain": [
       "HTML(value='<style>\\n    .bg-red {\\n        background-color: rgba(255, 0, 0, 0.25) !important; /* Adjust the …"
      ]
     },
     "metadata": {},
     "output_type": "display_data"
    },
    {
     "data": {
      "application/vnd.jupyter.widget-view+json": {
       "model_id": "e44b295220314410abb9251bdf4ea69c",
       "version_major": 2,
       "version_minor": 0
      },
      "text/plain": [
       "HBox(children=(VBox(children=(HTML(value=\"<div style='text-align: center;'><h3>beam1</h3></div>\"), FloatSlider…"
      ]
     },
     "metadata": {},
     "output_type": "display_data"
    },
    {
     "data": {
      "application/vnd.jupyter.widget-view+json": {
       "model_id": "46070fdee7af421fa6aa01783f532e69",
       "version_major": 2,
       "version_minor": 0
      },
      "text/plain": [
       "Output()"
      ]
     },
     "metadata": {},
     "output_type": "display_data"
    }
   ],
   "source": [
    "def main():\n",
    "\n",
    "    initials = np.array([ 0.98974287,  0.06568035,  1.04895981,  0.00893904,  1.10702174,\n",
    "       -0.37458241,  1.01377179, -0.06569218,  1.01210919,  0.42657349,\n",
    "        1.09041511,  0.37458351])\n",
    "\n",
    "    r_m31_widget = FloatSlider(min=-2.000, max=2.000, step=0.001, value=initials[0], description=\"M1-3\", readout_format='.3f')\n",
    "    c_m31_widget = FloatSlider(min=-2.000, max=2.000, step=0.001, value=initials[1], description=\"Phase M1-3\", readout_format='.3f')\n",
    "    r_m41_widget = FloatSlider(min=-2.100, max=2.000, step=0.001, value=initials[2], description = \"M4-7\", readout_format='.3f')\n",
    "    c_m41_widget = FloatSlider(min=-2.000, max=2.000, step=0.001, value=initials[3], description = \"Phase M4-7\", readout_format='.3f')\n",
    "    r_m81_widget = FloatSlider(min=-2.100, max=2.000, step=0.001, value=initials[4], description = \"M8-19\", readout_format='.3f')\n",
    "    c_m81_widget = FloatSlider(min=-2.000, max=2.000, step=0.001, value=initials[5], description = \"Phase M8-19\", readout_format='.3f')\n",
    "\n",
    "    r_m32_widget = FloatSlider(min=-2.000, max=2.000, step=0.001, value=initials[6], description = \"M1-3\", readout_format='.3f')\n",
    "    c_m32_widget = FloatSlider(min=-2.000, max=2.000, step=0.001, value=initials[7], description = \"Phase M1-3\", readout_format='.3f')\n",
    "    r_m42_widget = FloatSlider(min=-2.000, max=2.000, step=0.001, value=initials[8], description = \"M4-7\", readout_format='.3f')\n",
    "    c_m42_widget = FloatSlider(min=-2.000, max=2.000, step=0.001, value=initials[9], description = \"Phase M4-7\", readout_format='.3f')\n",
    "    r_m82_widget = FloatSlider(min=-2.000, max=2.000, step=0.001, value=initials[10], description = \"M8-19\", readout_format='.3f')\n",
    "    c_m82_widget = FloatSlider(min=-2.000, max=2.000, step=0.001, value=initials[11], description = \"Phase M8-19\", readout_format='.3f')\n",
    "\n",
    "    # r_m32_widget = FloatSlider(min=0.100, max=1.000, step=0.001, value=1.000, description = \"M1-3\", readout_format='.3f')\n",
    "    # c_m32_widget = FloatSlider(min=0.000, max=2.000, step=0.001, value=0.000, description = \"Phase M1-3\", readout_format='.3f')\n",
    "    # r_m42_widget = FloatSlider(min=0.100, max=1.000, step=0.001, value=1.000, description = \"M4-7\", readout_format='.3f')\n",
    "    # c_m42_widget = FloatSlider(min=0.000, max=2.000, step=0.001, value=0.000, description = \"Phase M4-7\", readout_format='.3f')\n",
    "    # r_m82_widget = FloatSlider(min=0.100, max=1.000, step=0.001, value=1.000, description = \"M8-19\", readout_format='.3f')\n",
    "    # c_m82_widget = FloatSlider(min=0.000, max=2.000, step=0.001, value=0.000, description = \"Phase M8-19\", readout_format='.3f')\n",
    "\n",
    "    I12_widget = FloatSlider(min=0.000, max=1.000, step=0.001, value=1.00, description = \"I12\", readout_format='.3f')\n",
    "    Q12_widget = FloatSlider(min=-1.000, max=1.000, step=0.001, value=0.00, description = \"Q12\", readout_format='.3f')\n",
    "    U12_widget = FloatSlider(min=-1.000, max=1.000, step=0.001, value=0.00, description = \"U12\", readout_format='.3f')\n",
    "    V12_widget = FloatSlider(min=-1.000, max=1.000, step=0.001, value=0.00, description = \"V12\", readout_format='.3f')\n",
    "\n",
    "    # Iii_widget = FloatSlider(min=0.000, max=1.000, step=0.001, value=1.00, description = \"Iii\", readout_format='.3f')\n",
    "    Qii_widget = FloatSlider(min=-1.000, max=1.000, step=0.001, value=0.00, description = \"Qii\", readout_format='.3f')\n",
    "    Uii_widget = FloatSlider(min=-1.000, max=1.000, step=0.001, value=0.00, description = \"Uii\", readout_format='.3f')\n",
    "    Vii_widget = FloatSlider(min=-1.000, max=1.000, step=0.001, value=0.00, description = \"Vii\", readout_format='.3f')\n",
    "\n",
    "    left_title = widgets.HTML(value=\"<div style='text-align: center;'><h3>beam1</h3></div>\")\n",
    "    center_title = widgets.HTML(value=\"<div style='text-align: center;'><h3>beam2</h3></div>\")\n",
    "    right_title = widgets.HTML(value=\"<div style='text-align: center;'><h3>Stokes parameters</h3></div>\")\n",
    "\n",
    "    left_box = widgets.VBox([left_title, r_m31_widget, c_m31_widget, r_m41_widget, c_m41_widget, r_m81_widget, c_m81_widget])\n",
    "    center_box = widgets.VBox([center_title, r_m32_widget, c_m32_widget, r_m42_widget, c_m42_widget, r_m82_widget, c_m82_widget])\n",
    "    right_box = widgets.VBox([right_title, I12_widget, Q12_widget, U12_widget, V12_widget, Qii_widget, Uii_widget, Vii_widget]) # Iii_widget,\n",
    "    all_widgets = widgets.HBox([left_box, center_box, right_box])\n",
    "\n",
    "    out = widgets.interactive_output(plot_func, {'r_m31': r_m31_widget, 'c_m31': c_m31_widget, 'r_m41': r_m41_widget, \n",
    "                                                'c_m41': c_m41_widget, 'r_m81': r_m81_widget, 'c_m81': c_m81_widget, \n",
    "                                                'r_m32': r_m32_widget, 'c_m32': c_m32_widget, 'r_m42': r_m42_widget, \n",
    "                                                'c_m42': c_m42_widget, 'r_m82': r_m82_widget, 'c_m82': c_m82_widget,\n",
    "                                                'I12': I12_widget, 'Q12': Q12_widget, 'U12': U12_widget, 'V12': V12_widget, \n",
    "                                                'Qii': Qii_widget, 'Uii': Uii_widget, 'Vii': Vii_widget})  # 'Iii': Iii_widget\n",
    "\n",
    "\n",
    "    if I12_widget.value +Q12_widget.value > 1 - Qii_widget.value:\n",
    "        print(f\"I12 + Q12 is not within the expected range\")\n",
    "\n",
    "    elif I12_widget.value - Q12_widget.value > 1 - Qii_widget.value:\n",
    "        print(f\"I12 - Q12 is not within the expected range\")\n",
    "\n",
    "    css = \"\"\"\n",
    "    .bg-red {\n",
    "        background-color: rgba(255, 0, 0, 0.25) !important; /* Adjust the last value (0.5) to change the transparency */\n",
    "    }\n",
    "\n",
    "    \"\"\"\n",
    "\n",
    "    # Create an HTML widget to apply CSS\n",
    "    html = widgets.HTML(value=\"<style>{}</style>\".format(css))\n",
    "\n",
    "    # Function to update widget background color based on condition\n",
    "    def update_color():\n",
    "        if I12_widget.value +Q12_widget.value > 1 - Qii_widget.value:\n",
    "            all_widgets.add_class(\"bg-red\")\n",
    "        elif I12_widget.value - Q12_widget.value > 1 - Qii_widget.value:\n",
    "            all_widgets.add_class(\"bg-red\")\n",
    "        else:\n",
    "            all_widgets.remove_class(\"bg-red\")\n",
    "\n",
    "    # Link widget value change to color update function\n",
    "    I12_widget.observe(update_color, names='value')\n",
    "    Q12_widget.observe(update_color, names='value')\n",
    "    Qii_widget.observe(update_color, names='value')\n",
    "\n",
    "    display(html)\n",
    "    display(all_widgets, out)\n",
    "\n",
    "\n",
    "if __name__ == \"__main__\":\n",
    "    main()"
   ]
  },
  {
   "cell_type": "code",
   "execution_count": 5,
   "metadata": {},
   "outputs": [
    {
     "data": {
      "text/plain": [
       "0.23376623391647994"
      ]
     },
     "execution_count": 5,
     "metadata": {},
     "output_type": "execute_result"
    }
   ],
   "source": [
    "np.sqrt(5) / (np.sqrt(10) + np.sqrt(41))"
   ]
  },
  {
   "cell_type": "code",
   "execution_count": 6,
   "metadata": {},
   "outputs": [
    {
     "data": {
      "text/plain": [
       "0.23702273156998865"
      ]
     },
     "execution_count": 6,
     "metadata": {},
     "output_type": "execute_result"
    }
   ],
   "source": [
    "np.sqrt(5) / np.sqrt(25 + 64)"
   ]
  },
  {
   "cell_type": "code",
   "execution_count": null,
   "metadata": {},
   "outputs": [],
   "source": [
    "    V_H = V_12_HH / (V_11_HH + V_22_HH)\n",
    "    V_V = V_12_VV / (V_11_VV + V_22_VV)"
   ]
  }
 ],
 "metadata": {
  "kernelspec": {
   "display_name": "base",
   "language": "python",
   "name": "python3"
  },
  "language_info": {
   "codemirror_mode": {
    "name": "ipython",
    "version": 3
   },
   "file_extension": ".py",
   "mimetype": "text/x-python",
   "name": "python",
   "nbconvert_exporter": "python",
   "pygments_lexer": "ipython3",
   "version": "3.8.8"
  }
 },
 "nbformat": 4,
 "nbformat_minor": 2
}
